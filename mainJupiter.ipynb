{
 "cells": [
  {
   "cell_type": "code",
   "execution_count": 23,
   "metadata": {},
   "outputs": [
    {
     "name": "stderr",
     "output_type": "stream",
     "text": [
      "C:\\Users\\Uporabnik\\AppData\\Roaming\\Python\\Python312\\site-packages\\tqdm\\auto.py:21: TqdmWarning: IProgress not found. Please update jupyter and ipywidgets. See https://ipywidgets.readthedocs.io/en/stable/user_install.html\n",
      "  from .autonotebook import tqdm as notebook_tqdm\n"
     ]
    },
    {
     "name": "stdout",
     "output_type": "stream",
     "text": [
      "Path to dataset files: C:\\Users\\Uporabnik\\.cache\\kagglehub\\datasets\\karakaggle\\kaggle-cat-vs-dog-dataset\\versions\\1\n"
     ]
    }
   ],
   "source": [
    "import kagglehub\n",
    "\n",
    "path = kagglehub.dataset_download(\"karakaggle/kaggle-cat-vs-dog-dataset\")\n",
    "\n",
    "print(\"Path to dataset files:\", path)"
   ]
  },
  {
   "cell_type": "code",
   "execution_count": null,
   "metadata": {},
   "outputs": [],
   "source": [
    "import os\n",
    "import torch\n",
    "from torch.utils.data import DataLoader, Dataset, random_split\n",
    "from torchvision.datasets import ImageFolder\n",
    "from torchvision.datasets.folder import IMG_EXTENSIONS\n",
    "from PIL import Image\n",
    "import albumentations as A\n",
    "from albumentations.pytorch import ToTensorV2\n",
    "import numpy as np\n",
    "\n",
    "# Albumentations transforms\n",
    "basic_transform = A.Compose([\n",
    "    A.Resize(64, 64),\n",
    "    A.RandomCrop(64, 64),\n",
    "    ToTensorV2()\n",
    "])\n",
    "advanced_transform = A.Compose([\n",
    "    A.Resize(64, 64),\n",
    "    A.RandomCrop(64, 64),\n",
    "    A.HorizontalFlip(),\n",
    "    A.RandomBrightnessContrast(),\n",
    "    A.RandomRotate90(),\n",
    "    A.HueSaturationValue(),\n",
    "    ToTensorV2()\n",
    "])\n",
    "# Albumentations wrapper\n",
    "class AlbumentationsTransform:\n",
    "    def __init__(self, transform):\n",
    "        self.transform = transform\n",
    "\n",
    "    def __call__(self, img):\n",
    "        img = np.array(img)  # Pretvoriti iz PIL fotografije v NumPy array\n",
    "        augmented = self.transform(image=img)\n",
    "        return augmented[\"image\"]\n",
    "# Filtered ImageFolder da izločimo neveljavne datoteke\n",
    "class FilteredImageFolder(ImageFolder):\n",
    "    def __init__(self, root, transform=None, target_transform=None):\n",
    "        super().__init__(root, transform, target_transform)\n",
    "        self.samples = [\n",
    "            (path, class_idx) for path, class_idx in self.samples\n",
    "            if path.lower().endswith(tuple(IMG_EXTENSIONS))\n",
    "        ]\n",
    "        self.targets = [s[1] for s in self.samples]\n",
    "class CombinedDataset(Dataset):\n",
    "    def __init__(self, dataset_path, basic_transform, advanced_transform):\n",
    "        self.image_folder = FilteredImageFolder(root=dataset_path)\n",
    "        self.basic_transform = AlbumentationsTransform(basic_transform)\n",
    "        self.advanced_transform = AlbumentationsTransform(advanced_transform)\n",
    "\n",
    "    def __len__(self):\n",
    "        return 2 * len(self.image_folder)\n",
    "\n",
    "    def __getitem__(self, idx):\n",
    "        original_idx = idx % len(self.image_folder)\n",
    "        img, label = self.image_folder[original_idx]\n",
    "\n",
    "        if idx < len(self.image_folder):\n",
    "            img = self.basic_transform(img)\n",
    "        else:\n",
    "            img = self.advanced_transform(img)\n",
    "\n",
    "        return img, label\n",
    "\n",
    "dataset_path = os.path.join(\n",
    "    'C:\\\\Users\\\\Uporabnik\\\\.cache\\\\kagglehub\\\\datasets\\\\karakaggle\\\\kaggle-cat-vs-dog-dataset\\\\versions\\\\1\\\\kagglecatsanddogs_3367a',\n",
    "    'PetImages'\n",
    ")\n",
    "\n",
    "combined_dataset = CombinedDataset(dataset_path, basic_transform, advanced_transform)\n",
    "train_size = int(0.9 * len(combined_dataset))\n",
    "val_size = len(combined_dataset) - train_size\n",
    "train_dataset, val_dataset = random_split(combined_dataset, [train_size, val_size])\n",
    "\n",
    "train_dataloader = DataLoader(train_dataset, batch_size=32, shuffle=True)\n",
    "val_dataloader = DataLoader(val_dataset, batch_size=32, shuffle=False)"
   ]
  },
  {
   "cell_type": "code",
   "execution_count": 32,
   "metadata": {},
   "outputs": [
    {
     "name": "stdout",
     "output_type": "stream",
     "text": [
      "torch.Size([32, 3, 64, 64]) torch.Size([32])\n"
     ]
    }
   ],
   "source": [
    "import matplotlib.pyplot as plt\n",
    "from torchvision.utils import make_grid\n",
    "\n",
    "def show_image(image, label, classes):\n",
    "    plt.imshow(image.permute(1, 2, 0))\n",
    "    plt.title(classes[label])\n",
    "    plt.show()\n",
    "def show_images(dataloader, dataset):\n",
    "    images, labels = next(iter(dataloader))\n",
    "    grid = make_grid(images, nrow=8)\n",
    "    plt.figure(figsize=(20, 20))\n",
    "    plt.imshow(grid.permute(1, 2, 0))\n",
    "    plt.title([dataset.image_folder.classes[i] for i in labels])\n",
    "    plt.show()\n",
    "\n",
    "# Fetch Batcha\n",
    "train_features_batch, train_labels_batch = next(iter(train_dataloader))\n",
    "print(train_features_batch.shape, train_labels_batch.shape)\n",
    "\n",
    "#show_image(train_features_batch[0], train_labels_batch[0], combined_dataset.image_folder.classes)\n",
    "#show_images(train_dataloader, combined_dataset)\n"
   ]
  },
  {
   "cell_type": "code",
   "execution_count": 103,
   "metadata": {},
   "outputs": [
    {
     "name": "stdout",
     "output_type": "stream",
     "text": [
      "Length of train_dataloader is 1404 with batches of size 32\n"
     ]
    }
   ],
   "source": [
    "print(f\"Length of train_dataloader is {len(train_dataloader)} with batches of size {train_dataloader.batch_size}\")"
   ]
  },
  {
   "cell_type": "code",
   "execution_count": 210,
   "metadata": {},
   "outputs": [],
   "source": [
    "from torch import nn\n",
    "class DogOrCatModelV0(nn.Module):\n",
    "    def __init__(self, \n",
    "                 input_shape: int, \n",
    "                 hidden_units: int, \n",
    "                 output_shape: int):\n",
    "        super().__init__()\n",
    "        self.block_1 = nn.Sequential(\n",
    "            nn.Conv2d(in_channels=input_shape, \n",
    "                      out_channels=hidden_units, \n",
    "                      kernel_size=3,\n",
    "                      stride=1,\n",
    "                      padding=1),\n",
    "            nn.ReLU(),\n",
    "            nn.Conv2d(in_channels=hidden_units, \n",
    "                      out_channels=hidden_units,\n",
    "                      kernel_size=3,\n",
    "                      stride=1,\n",
    "                      padding=1),\n",
    "            nn.BatchNorm2d(hidden_units), # samo normalizira, ne spreminja oblike. Ni nekaj pomembnega, lahko izpustimo samo I think da bi bli podatki slabši oz. tak je razloženo, nimam časa naštudirati njegove podrobnosti\n",
    "            nn.ReLU(),\n",
    "            nn.MaxPool2d(kernel_size=2, stride=2)\n",
    "        )\n",
    "        second_hidden_units = hidden_units * 2\n",
    "        self.block_2 = nn.Sequential(\n",
    "            nn.Conv2d(in_channels=hidden_units, \n",
    "                      out_channels=second_hidden_units, \n",
    "                      kernel_size=3,\n",
    "                      stride=1,\n",
    "                      padding=1),\n",
    "            nn.ReLU(),\n",
    "            nn.Conv2d(in_channels=second_hidden_units, \n",
    "                      out_channels=second_hidden_units,\n",
    "                      kernel_size=3,\n",
    "                      stride=1,\n",
    "                      padding=1),\n",
    "            nn.BatchNorm2d(second_hidden_units), \n",
    "            nn.ReLU(),\n",
    "            nn.MaxPool2d(kernel_size=2, stride=2)\n",
    "        )\n",
    "        third_hidden_units = hidden_units * 4\n",
    "        self.block_3 = nn.Sequential(\n",
    "            nn.Conv2d(in_channels=second_hidden_units, \n",
    "                      out_channels=third_hidden_units, \n",
    "                      kernel_size=3,\n",
    "                      stride=1,\n",
    "                      padding=1),\n",
    "            nn.ReLU(),\n",
    "            nn.Conv2d(in_channels=third_hidden_units, \n",
    "                      out_channels=third_hidden_units,\n",
    "                      kernel_size=3,\n",
    "                      stride=1,\n",
    "                      padding=1),\n",
    "            nn.BatchNorm2d(third_hidden_units),\n",
    "            nn.ReLU(),\n",
    "            nn.MaxPool2d(kernel_size=2, stride=2)\n",
    "        )\n",
    "        self.classifier = nn.Sequential(\n",
    "            nn.Flatten(),\n",
    "            # Fully connected layer; in_features is calculated dynamically\n",
    "            nn.Linear(in_features=hidden_units * 4 * 8 * 8,# na začetku dat na hidden_units*0, da najdemo napake kar se tiče dimenzij, potem pa spremenimo\n",
    "                      out_features=128), \n",
    "            nn.Tanh(),\n",
    "            nn.Linear(128, output_shape),\n",
    "            nn.Softmax(dim=1)\n",
    "        )\n",
    "    \n",
    "    def forward(self, x: torch.Tensor):\n",
    "        x = self.block_1(x)\n",
    "        print(f\"E: {x.shape}\")\n",
    "        x = self.block_2(x)\n",
    "        print(f\"E: {x.shape}\")\n",
    "        x = self.block_3(x)\n",
    "        print(f\"E: {x.shape}\")\n",
    "        x = self.classifier(x)\n",
    "        return x"
   ]
  },
  {
   "cell_type": "code",
   "execution_count": 211,
   "metadata": {},
   "outputs": [],
   "source": [
    "torch.manual_seed(42)\n",
    "model = DogOrCatModelV0(input_shape=3, hidden_units=16, output_shape=2)"
   ]
  },
  {
   "cell_type": "code",
   "execution_count": 212,
   "metadata": {},
   "outputs": [
    {
     "name": "stdout",
     "output_type": "stream",
     "text": [
      "E: torch.Size([1, 16, 32, 32])\n",
      "E: torch.Size([1, 32, 16, 16])\n",
      "E: torch.Size([1, 64, 8, 8])\n"
     ]
    },
    {
     "data": {
      "text/plain": [
       "tensor([[0.3888, 0.6112]], grad_fn=<SoftmaxBackward0>)"
      ]
     },
     "execution_count": 212,
     "metadata": {},
     "output_type": "execute_result"
    }
   ],
   "source": [
    "torch.manual_seed(42)\n",
    "\n",
    "images = torch.randn(size=(1, 3, 64, 64))\n",
    "model(images)"
   ]
  },
  {
   "cell_type": "code",
   "execution_count": 123,
   "metadata": {},
   "outputs": [],
   "source": [
    "torch.manual_seed(42)\n",
    "\n",
    "#num_classes = combined_dataset.image_folder.classes\n",
    "#print(f\"Number of classes: {num_classes}\")  # Should output 2\n",
    "\n",
    "model_v0 = DogOrCatModelV0(\n",
    "    input_shape=64*64*3, \n",
    "    hidden_units=10, \n",
    "    output_shape=len(combined_dataset.image_folder.classes)\n",
    "    ).to(\"cpu\")"
   ]
  },
  {
   "cell_type": "code",
   "execution_count": 124,
   "metadata": {},
   "outputs": [
    {
     "data": {
      "text/plain": [
       "tensor([[0.0000, 0.1484],\n",
       "        [0.0655, 0.0047],\n",
       "        [0.0000, 0.0000],\n",
       "        [0.0475, 0.1204]], grad_fn=<ReluBackward0>)"
      ]
     },
     "execution_count": 124,
     "metadata": {},
     "output_type": "execute_result"
    }
   ],
   "source": [
    "# troubleshoot da vidim ce dimensions delajo\n",
    "dummy_x = torch.randn([4, 3, 64, 64])\n",
    "model_v0(dummy_x)"
   ]
  },
  {
   "cell_type": "code",
   "execution_count": 129,
   "metadata": {},
   "outputs": [],
   "source": [
    "#from helper_functions import accuracy_fn\n",
    "\n",
    "loss_fn = nn.CrossEntropyLoss()\n",
    "#optimizer = torch.optim.Adam(model_v0.parameters(), lr=0.0001)\n",
    "optimizer = torch.optim.SGD(params=model_v0.parameters(), \n",
    "                            lr=0.0001)"
   ]
  },
  {
   "cell_type": "code",
   "execution_count": 130,
   "metadata": {},
   "outputs": [],
   "source": [
    "def accuracy_fn(y_true, y_pred):\n",
    "    \"\"\"Calculates accuracy between truth labels and predictions.\n",
    "\n",
    "    Args:\n",
    "        y_true (torch.Tensor): Truth labels for predictions.\n",
    "        y_pred (torch.Tensor): Predictions to be compared to predictions.\n",
    "\n",
    "    Returns:\n",
    "        [torch.float]: Accuracy value between y_true and y_pred, e.g. 78.45\n",
    "    \"\"\"\n",
    "    correct = torch.eq(y_true, y_pred).sum().item()\n",
    "    acc = (correct / len(y_pred)) * 100\n",
    "    return acc\n"
   ]
  },
  {
   "cell_type": "code",
   "execution_count": 131,
   "metadata": {},
   "outputs": [
    {
     "data": {
      "text/plain": [
       "'cpu'"
      ]
     },
     "execution_count": 131,
     "metadata": {},
     "output_type": "execute_result"
    }
   ],
   "source": [
    "import torch\n",
    "device = \"cuda\" if torch.cuda.is_available() else \"cpu\"\n",
    "device"
   ]
  },
  {
   "cell_type": "code",
   "execution_count": 138,
   "metadata": {},
   "outputs": [],
   "source": [
    "def train_step(model: torch.nn.Module, \n",
    "               data_loader: torch.utils.data.DataLoader, \n",
    "               loss_fn: torch.nn.Module,\n",
    "               optimizer: torch.optim.Optimizer,\n",
    "               accuracy_fn,\n",
    "               device: torch.device = device):\n",
    "    train_loss, train_acc = 0, 0\n",
    "    model.train()\n",
    "    for batch, (X, y) in enumerate(data_loader): # Iti skozi vse batche\n",
    "        X = X.float()\n",
    "        # Podatke na napravo\n",
    "        X, y = X.to(device), y.to(device)\n",
    "\n",
    "        # Forward pass\n",
    "        y_pred = model(X)\n",
    "        \n",
    "        # Loss\n",
    "        loss = loss_fn(y_pred, y)\n",
    "        train_loss += loss # Dodaj loss v train_loss\n",
    "        # Kalkulacija točnosti\n",
    "        train_acc += accuracy_fn(y_true=y, \n",
    "                                y_pred=y_pred.argmax(dim=1))\n",
    "\n",
    "        # Optimizer zero grad\n",
    "        optimizer.zero_grad()\n",
    "\n",
    "        # Loss backward\n",
    "        loss.backward()\n",
    "\n",
    "        # Optimizer step\n",
    "        optimizer.step()\n",
    "    \n",
    "    # Loss avg za batch\n",
    "    train_loss /= len(val_dataloader)\n",
    "    # Točnost avg za batch\n",
    "    train_acc /= len(val_dataloader)\n",
    "    \n",
    "    print(f\"\\nTrain loss: {train_loss:.5f} | Training Acc: {train_acc:.2f}%\")\n",
    "\n",
    "\n",
    "def test_step(data_loader: torch.utils.data.DataLoader,\n",
    "              model: torch.nn.Module,\n",
    "              loss_fn: torch.nn.Module,\n",
    "              accuracy_fn,\n",
    "              device: torch.device = device):\n",
    "    test_loss, test_acc = 0, 0\n",
    "    model.to(device)\n",
    "    model.eval()\n",
    "    with torch.inference_mode():\n",
    "        for X, y in data_loader:\n",
    "            X = X.float()\n",
    "            X, y = X.to(device), y.to(device)\n",
    "\n",
    "            test_pred = model(X)\n",
    "\n",
    "            test_loss += loss_fn(test_pred, y)\n",
    "            test_acc += accuracy_fn(y_true=y, \n",
    "                                    y_pred=test_pred.argmax(dim=1))\n",
    "        \n",
    "        test_loss /= len(data_loader)\n",
    "        test_acc /= len(data_loader)\n",
    "        print(f\"Test loss: {test_loss:.5f} | Test Acc: {test_acc:.2f}%\")\n",
    "  "
   ]
  },
  {
   "cell_type": "code",
   "execution_count": 139,
   "metadata": {},
   "outputs": [
    {
     "name": "stderr",
     "output_type": "stream",
     "text": [
      "  0%|          | 0/3 [00:00<?, ?it/s]"
     ]
    },
    {
     "name": "stdout",
     "output_type": "stream",
     "text": [
      "Epoch 1\n",
      "-------------------------------\n",
      "\n",
      "Train loss: 6.23844 | Training Acc: 450.12%\n"
     ]
    },
    {
     "name": "stderr",
     "output_type": "stream",
     "text": [
      " 33%|███▎      | 1/3 [02:25<04:51, 145.53s/it]"
     ]
    },
    {
     "name": "stdout",
     "output_type": "stream",
     "text": [
      "Test loss: 0.69315 | Test Acc: 50.30%\n",
      "Epoch 2\n",
      "-------------------------------\n",
      "\n",
      "Train loss: 6.23844 | Training Acc: 450.12%\n"
     ]
    },
    {
     "name": "stderr",
     "output_type": "stream",
     "text": [
      " 67%|██████▋   | 2/3 [06:25<03:20, 200.88s/it]"
     ]
    },
    {
     "name": "stdout",
     "output_type": "stream",
     "text": [
      "Test loss: 0.69315 | Test Acc: 50.30%\n",
      "Epoch 3\n",
      "-------------------------------\n",
      "\n",
      "Train loss: 6.23844 | Training Acc: 450.12%\n"
     ]
    },
    {
     "name": "stderr",
     "output_type": "stream",
     "text": [
      "100%|██████████| 3/3 [10:55<00:00, 218.65s/it]"
     ]
    },
    {
     "name": "stdout",
     "output_type": "stream",
     "text": [
      "Test loss: 0.69315 | Test Acc: 50.30%\n"
     ]
    },
    {
     "name": "stderr",
     "output_type": "stream",
     "text": [
      "\n"
     ]
    }
   ],
   "source": [
    "torch.manual_seed(42)\n",
    "from timeit import default_timer as timer\n",
    "train_time_start = timer()\n",
    "\n",
    "epochs = 3\n",
    "\n",
    "from tqdm.auto import tqdm\n",
    "for epoch in tqdm(range(epochs)):\n",
    "    print(f\"Epoch {epoch + 1}\\n-------------------------------\")\n",
    "    train_step(model=model_v0, \n",
    "               data_loader=train_dataloader, \n",
    "               loss_fn=loss_fn,\n",
    "               optimizer=optimizer,\n",
    "               accuracy_fn=accuracy_fn,\n",
    "               device=device)\n",
    "    test_step(model=model_v0,\n",
    "              data_loader=val_dataloader,\n",
    "              loss_fn=loss_fn,\n",
    "              accuracy_fn=accuracy_fn,\n",
    "              device=device)"
   ]
  }
 ],
 "metadata": {
  "kernelspec": {
   "display_name": "Python 3",
   "language": "python",
   "name": "python3"
  },
  "language_info": {
   "codemirror_mode": {
    "name": "ipython",
    "version": 3
   },
   "file_extension": ".py",
   "mimetype": "text/x-python",
   "name": "python",
   "nbconvert_exporter": "python",
   "pygments_lexer": "ipython3",
   "version": "3.12.0"
  }
 },
 "nbformat": 4,
 "nbformat_minor": 2
}
