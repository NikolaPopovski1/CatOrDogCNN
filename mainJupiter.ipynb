{
 "cells": [
  {
   "cell_type": "code",
   "execution_count": 23,
   "metadata": {},
   "outputs": [
    {
     "name": "stderr",
     "output_type": "stream",
     "text": [
      "C:\\Users\\Uporabnik\\AppData\\Roaming\\Python\\Python312\\site-packages\\tqdm\\auto.py:21: TqdmWarning: IProgress not found. Please update jupyter and ipywidgets. See https://ipywidgets.readthedocs.io/en/stable/user_install.html\n",
      "  from .autonotebook import tqdm as notebook_tqdm\n"
     ]
    },
    {
     "name": "stdout",
     "output_type": "stream",
     "text": [
      "Path to dataset files: C:\\Users\\Uporabnik\\.cache\\kagglehub\\datasets\\karakaggle\\kaggle-cat-vs-dog-dataset\\versions\\1\n"
     ]
    }
   ],
   "source": [
    "import kagglehub\n",
    "\n",
    "path = kagglehub.dataset_download(\"karakaggle/kaggle-cat-vs-dog-dataset\")\n",
    "\n",
    "print(\"Path to dataset files:\", path)"
   ]
  },
  {
   "cell_type": "code",
   "execution_count": null,
   "metadata": {},
   "outputs": [],
   "source": [
    "import os\n",
    "import torch\n",
    "from torch.utils.data import DataLoader, Dataset, random_split\n",
    "from torchvision.datasets import ImageFolder\n",
    "from torchvision.datasets.folder import IMG_EXTENSIONS\n",
    "from PIL import Image\n",
    "import albumentations as A\n",
    "from albumentations.pytorch import ToTensorV2\n",
    "import numpy as np\n",
    "\n",
    "# Albumentations transforms\n",
    "basic_transform = A.Compose([\n",
    "    A.Resize(64, 64),\n",
    "    A.RandomCrop(64, 64),\n",
    "    ToTensorV2()\n",
    "])\n",
    "advanced_transform = A.Compose([\n",
    "    A.Resize(64, 64),\n",
    "    A.RandomCrop(64, 64),\n",
    "    A.HorizontalFlip(),\n",
    "    A.RandomBrightnessContrast(),\n",
    "    A.RandomRotate90(),\n",
    "    A.HueSaturationValue(),\n",
    "    ToTensorV2()\n",
    "])\n",
    "# Albumentations wrapper\n",
    "class AlbumentationsTransform:\n",
    "    def __init__(self, transform):\n",
    "        self.transform = transform\n",
    "\n",
    "    def __call__(self, img):\n",
    "        img = np.array(img)  # Pretvoriti iz PIL fotografije v NumPy array\n",
    "        augmented = self.transform(image=img)\n",
    "        return augmented[\"image\"]\n",
    "# Filtered ImageFolder da izločimo neveljavne datoteke\n",
    "class FilteredImageFolder(ImageFolder):\n",
    "    def __init__(self, root, transform=None, target_transform=None):\n",
    "        super().__init__(root, transform, target_transform)\n",
    "        self.samples = [\n",
    "            (path, class_idx) for path, class_idx in self.samples\n",
    "            if path.lower().endswith(tuple(IMG_EXTENSIONS))\n",
    "        ]\n",
    "        self.targets = [s[1] for s in self.samples]\n",
    "class CombinedDataset(Dataset):\n",
    "    def __init__(self, dataset_path, basic_transform, advanced_transform):\n",
    "        self.image_folder = FilteredImageFolder(root=dataset_path)\n",
    "        self.basic_transform = AlbumentationsTransform(basic_transform)\n",
    "        self.advanced_transform = AlbumentationsTransform(advanced_transform)\n",
    "\n",
    "    def __len__(self):\n",
    "        return 2 * len(self.image_folder)\n",
    "\n",
    "    def __getitem__(self, idx):\n",
    "        original_idx = idx % len(self.image_folder)\n",
    "        img, label = self.image_folder[original_idx]\n",
    "\n",
    "        if idx < len(self.image_folder):\n",
    "            img = self.basic_transform(img)\n",
    "        else:\n",
    "            img = self.advanced_transform(img)\n",
    "\n",
    "        return img, label\n",
    "\n",
    "dataset_path = os.path.join(\n",
    "    'C:\\\\Users\\\\Uporabnik\\\\.cache\\\\kagglehub\\\\datasets\\\\karakaggle\\\\kaggle-cat-vs-dog-dataset\\\\versions\\\\1\\\\kagglecatsanddogs_3367a',\n",
    "    'PetImages'\n",
    ")\n",
    "\n",
    "combined_dataset = CombinedDataset(dataset_path, basic_transform, advanced_transform)\n",
    "train_size = int(0.9 * len(combined_dataset))\n",
    "val_size = len(combined_dataset) - train_size\n",
    "train_dataset, val_dataset = random_split(combined_dataset, [train_size, val_size])\n",
    "\n",
    "train_dataloader = DataLoader(train_dataset, batch_size=32, shuffle=True)\n",
    "val_dataloader = DataLoader(val_dataset, batch_size=32, shuffle=False)"
   ]
  },
  {
   "cell_type": "code",
   "execution_count": 32,
   "metadata": {},
   "outputs": [
    {
     "name": "stdout",
     "output_type": "stream",
     "text": [
      "torch.Size([32, 3, 64, 64]) torch.Size([32])\n"
     ]
    }
   ],
   "source": [
    "import matplotlib.pyplot as plt\n",
    "from torchvision.utils import make_grid\n",
    "\n",
    "def show_image(image, label, classes):\n",
    "    plt.imshow(image.permute(1, 2, 0))\n",
    "    plt.title(classes[label])\n",
    "    plt.show()\n",
    "def show_images(dataloader, dataset):\n",
    "    images, labels = next(iter(dataloader))\n",
    "    grid = make_grid(images, nrow=8)\n",
    "    plt.figure(figsize=(20, 20))\n",
    "    plt.imshow(grid.permute(1, 2, 0))\n",
    "    plt.title([dataset.image_folder.classes[i] for i in labels])\n",
    "    plt.show()\n",
    "\n",
    "# Fetch Batcha\n",
    "train_features_batch, train_labels_batch = next(iter(train_dataloader))\n",
    "print(train_features_batch.shape, train_labels_batch.shape)\n",
    "\n",
    "#show_image(train_features_batch[0], train_labels_batch[0], combined_dataset.image_folder.classes)\n",
    "#show_images(train_dataloader, combined_dataset)\n"
   ]
  },
  {
   "cell_type": "code",
   "execution_count": 103,
   "metadata": {},
   "outputs": [
    {
     "name": "stdout",
     "output_type": "stream",
     "text": [
      "Length of train_dataloader is 1404 with batches of size 32\n"
     ]
    }
   ],
   "source": [
    "print(f\"Length of train_dataloader is {len(train_dataloader)} with batches of size {train_dataloader.batch_size}\")"
   ]
  },
  {
   "cell_type": "code",
   "execution_count": 104,
   "metadata": {},
   "outputs": [],
   "source": [
    "from torch import nn\n",
    "class DogOrCatModelV0(nn.Module):\n",
    "    def __init__(self, \n",
    "                 input_shape: int, \n",
    "                 hidden_units: int, \n",
    "                 output_shape: int):\n",
    "        super().__init__()\n",
    "        self.layer_stack = nn.Sequential(\n",
    "            nn.Flatten(),\n",
    "            nn.Linear(in_features=input_shape, out_features=hidden_units),\n",
    "            nn.Linear(in_features=hidden_units, out_features=output_shape)\n",
    "        )\n",
    "    def forward(self, x):\n",
    "        return self.layer_stack(x)"
   ]
  },
  {
   "cell_type": "code",
   "execution_count": 105,
   "metadata": {},
   "outputs": [
    {
     "data": {
      "text/plain": [
       "(torch.Size([3, 64, 64]), torch.Size([3, 4096]))"
      ]
     },
     "execution_count": 105,
     "metadata": {},
     "output_type": "execute_result"
    }
   ],
   "source": [
    "flatten_model = nn.Flatten()\n",
    "x = train_features_batch[0]\n",
    "output = flatten_model(x)\n",
    "\n",
    "x.shape, output.shape"
   ]
  },
  {
   "cell_type": "code",
   "execution_count": 106,
   "metadata": {},
   "outputs": [],
   "source": [
    "torch.manual_seed(42)\n",
    "\n",
    "#num_classes = combined_dataset.image_folder.classes\n",
    "#print(f\"Number of classes: {num_classes}\")  # Should output 2\n",
    "\n",
    "model_v0 = DogOrCatModelV0(\n",
    "    input_shape=64*64*3, \n",
    "    hidden_units=22, \n",
    "    output_shape=len(combined_dataset.image_folder.classes)\n",
    "    ).to(\"cpu\")"
   ]
  },
  {
   "cell_type": "code",
   "execution_count": 107,
   "metadata": {},
   "outputs": [
    {
     "data": {
      "text/plain": [
       "tensor([[-0.7286,  0.5637],\n",
       "        [-0.5120,  0.6398],\n",
       "        [-0.5710,  0.6762],\n",
       "        [-0.5161,  0.5698]], grad_fn=<AddmmBackward0>)"
      ]
     },
     "execution_count": 107,
     "metadata": {},
     "output_type": "execute_result"
    }
   ],
   "source": [
    "# troubleshoot da vidim ce dimensions delajo\n",
    "dummy_x = torch.randn([4, 3, 64, 64])\n",
    "model_v0(dummy_x)"
   ]
  },
  {
   "cell_type": "code",
   "execution_count": 108,
   "metadata": {},
   "outputs": [],
   "source": [
    "loss_fn = nn.CrossEntropyLoss()\n",
    "optimizer = torch.optim.Adam(model_v0.parameters(), lr=0.0001)"
   ]
  },
  {
   "cell_type": "code",
   "execution_count": 109,
   "metadata": {},
   "outputs": [],
   "source": [
    "def accuracy_fn(y_true, y_pred):\n",
    "    \"\"\"Calculates accuracy between truth labels and predictions.\n",
    "\n",
    "    Args:\n",
    "        y_true (torch.Tensor): Truth labels for predictions.\n",
    "        y_pred (torch.Tensor): Predictions to be compared to predictions.\n",
    "\n",
    "    Returns:\n",
    "        [torch.float]: Accuracy value between y_true and y_pred, e.g. 78.45\n",
    "    \"\"\"\n",
    "    correct = torch.eq(y_true, y_pred).sum().item()\n",
    "    acc = (correct / len(y_pred)) * 100\n",
    "    return acc\n"
   ]
  },
  {
   "cell_type": "code",
   "execution_count": 110,
   "metadata": {},
   "outputs": [
    {
     "data": {
      "text/plain": [
       "'cpu'"
      ]
     },
     "execution_count": 110,
     "metadata": {},
     "output_type": "execute_result"
    }
   ],
   "source": [
    "import torch\n",
    "device = \"cuda\" if torch.cuda.is_available() else \"cpu\"\n",
    "device"
   ]
  },
  {
   "cell_type": "code",
   "execution_count": 111,
   "metadata": {},
   "outputs": [
    {
     "name": "stderr",
     "output_type": "stream",
     "text": [
      "  0%|          | 0/3 [00:00<?, ?it/s]"
     ]
    },
    {
     "name": "stdout",
     "output_type": "stream",
     "text": [
      "Epoch 0\n",
      "---------\n",
      "Looked at 0/44926 samples\n"
     ]
    },
    {
     "name": "stderr",
     "output_type": "stream",
     "text": [
      "C:\\Users\\Uporabnik\\AppData\\Roaming\\Python\\Python312\\site-packages\\PIL\\TiffImagePlugin.py:935: UserWarning: Truncated File Read\n",
      "  warnings.warn(str(msg))\n"
     ]
    },
    {
     "name": "stdout",
     "output_type": "stream",
     "text": [
      "Looked at 12800/44926 samples\n",
      "Looked at 25600/44926 samples\n",
      "Looked at 38400/44926 samples\n"
     ]
    },
    {
     "name": "stderr",
     "output_type": "stream",
     "text": [
      " 33%|███▎      | 1/3 [03:06<06:13, 186.91s/it]"
     ]
    },
    {
     "name": "stdout",
     "output_type": "stream",
     "text": [
      "\n",
      "Epoch: 0, Training Loss: 5.7820, Test Loss: 2.7756,Test Accuracy: 54.1667\n",
      "Epoch 1\n",
      "---------\n",
      "Looked at 0/44926 samples\n",
      "Looked at 12800/44926 samples\n",
      "Looked at 25600/44926 samples\n",
      "Looked at 38400/44926 samples\n"
     ]
    },
    {
     "name": "stderr",
     "output_type": "stream",
     "text": [
      " 67%|██████▋   | 2/3 [07:10<03:40, 220.46s/it]"
     ]
    },
    {
     "name": "stdout",
     "output_type": "stream",
     "text": [
      "\n",
      "Epoch: 1, Training Loss: 2.5564, Test Loss: 1.4374,Test Accuracy: 56.8309\n",
      "Epoch 2\n",
      "---------\n",
      "Looked at 0/44926 samples\n",
      "Looked at 12800/44926 samples\n",
      "Looked at 25600/44926 samples\n",
      "Looked at 38400/44926 samples\n"
     ]
    },
    {
     "name": "stderr",
     "output_type": "stream",
     "text": [
      "100%|██████████| 3/3 [11:00<00:00, 220.14s/it]"
     ]
    },
    {
     "name": "stdout",
     "output_type": "stream",
     "text": [
      "\n",
      "Epoch: 2, Training Loss: 1.2028, Test Loss: 0.8053,Test Accuracy: 54.6074\n"
     ]
    },
    {
     "name": "stderr",
     "output_type": "stream",
     "text": [
      "\n"
     ]
    }
   ],
   "source": [
    "from tqdm.auto import tqdm\n",
    "\n",
    "torch.manual_seed(42)\n",
    "\n",
    "epochs = 3\n",
    "\n",
    "for epoch in tqdm(range(epochs)):\n",
    "    print(f\"Epoch {epoch}\\n---------\")\n",
    "    train_loss = 0\n",
    "    # X je image, y je label\n",
    "    for batch, (X, y) in enumerate(train_dataloader): # Iti skozi vse batche\n",
    "        model_v0.train()\n",
    "        # Forward pass\n",
    "        X = X.float()\n",
    "        y_pred = model_v0(X)\n",
    "        # Loss\n",
    "        loss = loss_fn(y_pred, y)\n",
    "        train_loss += loss # Dodaj loss v train_loss\n",
    "        # Optimizer zero grad\n",
    "        optimizer.zero_grad()\n",
    "        # Loss backward\n",
    "        loss.backward()\n",
    "        # Optimizer step\n",
    "        optimizer.step()\n",
    "        if batch % 400 == 0:\n",
    "            print(f\"Looked at {batch * len(X)}/{len(train_dataloader.dataset)} samples\")\n",
    "    \n",
    "    train_loss /= len(train_dataloader)\n",
    "\n",
    "    # Testiranje modela\n",
    "    test_loss, test_acc = 0, 0\n",
    "    model_v0.eval()\n",
    "    with torch.inference_mode():\n",
    "        for X_test, y_test in val_dataloader:\n",
    "            # Forward pass\n",
    "            X_test = X_test.float()\n",
    "            test_pred = model_v0(X_test)\n",
    "            # Akumulirana kalkulacia lossa \n",
    "            test_loss += loss_fn(test_pred, y_test)\n",
    "            # Kalkulacija točnosti\n",
    "            test_acc += accuracy_fn(y_true=y_test, y_pred=test_pred.argmax(dim=1))\n",
    "        # Loss avg za batch\n",
    "        test_loss /= len(val_dataloader)\n",
    "        # Točnost avg za batch\n",
    "        test_acc /= len(val_dataloader)\n",
    "    \n",
    "    print(f\"\\nEpoch: {epoch}, Training Loss: {train_loss:.4f}, Test Loss: {test_loss:.4f},Test Accuracy: {test_acc:.4f}\")"
   ]
  },
  {
   "cell_type": "code",
   "execution_count": null,
   "metadata": {},
   "outputs": [],
   "source": []
  }
 ],
 "metadata": {
  "kernelspec": {
   "display_name": "Python 3",
   "language": "python",
   "name": "python3"
  },
  "language_info": {
   "codemirror_mode": {
    "name": "ipython",
    "version": 3
   },
   "file_extension": ".py",
   "mimetype": "text/x-python",
   "name": "python",
   "nbconvert_exporter": "python",
   "pygments_lexer": "ipython3",
   "version": "3.12.0"
  }
 },
 "nbformat": 4,
 "nbformat_minor": 2
}
